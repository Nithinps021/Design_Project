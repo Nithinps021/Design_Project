{
  "nbformat": 4,
  "nbformat_minor": 0,
  "metadata": {
    "colab": {
      "name": "Emoji.ipynb",
      "provenance": []
    },
    "kernelspec": {
      "name": "python3",
      "display_name": "Python 3"
    },
    "accelerator": "GPU"
  },
  "cells": [
    {
      "cell_type": "code",
      "metadata": {
        "id": "cbKCp0vdbLYb",
        "colab": {
          "base_uri": "https://localhost:8080/",
          "height": 34
        },
        "outputId": "744b0b03-4a16-4cc2-f858-1deddcb7f4bf"
      },
      "source": [
        "from zipfile import ZipFile\n",
        "file_name=\"/content/99505_234911_bundle_archive.zip\"\n",
        "with ZipFile(file_name,'r') as zip:\n",
        "  zip.extractall()\n",
        "  print('done')"
      ],
      "execution_count": null,
      "outputs": [
        {
          "output_type": "stream",
          "text": [
            "done\n"
          ],
          "name": "stdout"
        }
      ]
    },
    {
      "cell_type": "code",
      "metadata": {
        "id": "bxcRv9SR5UWr"
      },
      "source": [
        "from google.colab import drive\n",
        "drive.mount('/content/drive')"
      ],
      "execution_count": null,
      "outputs": []
    },
    {
      "cell_type": "code",
      "metadata": {
        "id": "rbvx3BLBpwPJ"
      },
      "source": [
        "batch_size=32\n",
        "img_height=200\n",
        "img_width=200"
      ],
      "execution_count": null,
      "outputs": []
    },
    {
      "cell_type": "code",
      "metadata": {
        "id": "Bq6WCu-PnA0r"
      },
      "source": [
        "import tensorflow as tf\n",
        "from keras.preprocessing.image import ImageDataGenerator\n",
        "datagen_train = ImageDataGenerator()\n",
        "datagen_validation = ImageDataGenerator()\n",
        "\n",
        "#td= tf.keras.preprocessing.image_dataset_from_directory(\"images/\", validation_split=0.2, subset=\"training\", seed=123, image_size=(img_height,img_width),batch_size=batch_size) "
      ],
      "execution_count": null,
      "outputs": []
    },
    {
      "cell_type": "code",
      "metadata": {
        "id": "3KCvHg8pqkj_"
      },
      "source": [
        "#vd= tf.keras.preprocessing.image_dataset_from_directory(\"images/\", validation_split=0.2, subset=\"validation\", seed=123, image_size=(img_height,img_width),batch_size=batch_size) "
      ],
      "execution_count": null,
      "outputs": []
    },
    {
      "cell_type": "code",
      "metadata": {
        "id": "ah5BG81N4OPr",
        "colab": {
          "base_uri": "https://localhost:8080/",
          "height": 50
        },
        "outputId": "caffafcf-d27c-4715-8615-c50914b27b20"
      },
      "source": [
        "train_generator = datagen_train.flow_from_directory(\"images/train\",\n",
        "                                                    target_size=(img_height,img_width),\n",
        "                                                    \n",
        "                                                    batch_size=batch_size,\n",
        "                                                    class_mode='categorical',\n",
        "                                                    shuffle=True)\n",
        "\n",
        "validation_generator = datagen_validation.flow_from_directory(\"images/validation\",\n",
        "                                                    target_size=(img_height,img_width),\n",
        "                                                    \n",
        "                                                    batch_size=batch_size,\n",
        "                                                    class_mode='categorical',\n",
        "                                                    shuffle=False)"
      ],
      "execution_count": null,
      "outputs": [
        {
          "output_type": "stream",
          "text": [
            "Found 28821 images belonging to 7 classes.\n",
            "Found 7066 images belonging to 7 classes.\n"
          ],
          "name": "stdout"
        }
      ]
    },
    {
      "cell_type": "code",
      "metadata": {
        "id": "tAmDMWv2qtr0",
        "colab": {
          "base_uri": "https://localhost:8080/",
          "height": 50
        },
        "outputId": "5a016cfa-adcc-40b0-ebd1-3ae3c40c6653"
      },
      "source": [
        "for image_batch, labels_batch in train_generator:\n",
        "  print(image_batch.shape)\n",
        "  print(labels_batch.shape)\n",
        "  break"
      ],
      "execution_count": null,
      "outputs": [
        {
          "output_type": "stream",
          "text": [
            "(32, 200, 200, 3)\n",
            "(32, 7)\n"
          ],
          "name": "stdout"
        }
      ]
    },
    {
      "cell_type": "code",
      "metadata": {
        "id": "wf7R-wo3rNbk"
      },
      "source": [
        "# normalization_images =tf.keras.layers.experimental.preprocessing.Rescaling(1./255)\n",
        "# normalised_td=train_generator.map(lambda x,y:(normalization_images(x),y))\n",
        "# image_batch, labels_batch= next(iter(normalised_td))"
      ],
      "execution_count": null,
      "outputs": []
    },
    {
      "cell_type": "code",
      "metadata": {
        "id": "zTsMLnDer7tm"
      },
      "source": [
        "from tensorflow.keras.models import Sequential\n",
        "model = Sequential()"
      ],
      "execution_count": null,
      "outputs": []
    },
    {
      "cell_type": "code",
      "metadata": {
        "id": "quxj0IHbsI0y"
      },
      "source": [
        "model.add(tf.keras.layers.experimental.preprocessing.Rescaling(1./255, input_shape=(img_height, img_width,3)))"
      ],
      "execution_count": null,
      "outputs": []
    },
    {
      "cell_type": "code",
      "metadata": {
        "id": "eSiAFmHssqI9"
      },
      "source": [
        "model.add(tf.keras.layers.Conv2D(32,3,padding=\"same\",activation=\"relu\"))\n",
        "model.add(tf.keras.layers.BatchNormalization())\n",
        "model.add(tf.keras.layers.Conv2D(32,3,activation=\"relu\"))\n",
        "model.add(tf.keras.layers.MaxPooling2D(pool_size=2))\n",
        "model.add(tf.keras.layers.Dropout(0.5))\n",
        "model.add(tf.keras.layers.Conv2D(64,3,padding=\"same\",activation=\"relu\"))\n",
        "model.add(tf.keras.layers.BatchNormalization())\n",
        "model.add(tf.keras.layers.Conv2D(64,3,activation=\"relu\"))\n",
        "model.add(tf.keras.layers.MaxPooling2D(pool_size=2))\n",
        "model.add(tf.keras.layers.Dropout(0.35))\n",
        "model.add(tf.keras.layers.Conv2D(128,3,padding=\"same\",activation=\"relu\"))\n",
        "model.add(tf.keras.layers.BatchNormalization())\n",
        "model.add(tf.keras.layers.Conv2D(128,3,activation=\"relu\"))\n",
        "model.add(tf.keras.layers.MaxPooling2D(pool_size=2))\n",
        "model.add(tf.keras.layers.Dropout(0.35))\n",
        "model.add(tf.keras.layers.Conv2D(256,3,activation=\"relu\"))\n",
        "model.add(tf.keras.layers.MaxPooling2D(pool_size=2))\n",
        "model.add(tf.keras.layers.Dropout(0.35))\n",
        "\n",
        "\n",
        "model.add(tf.keras.layers.Flatten())"
      ],
      "execution_count": null,
      "outputs": []
    },
    {
      "cell_type": "code",
      "metadata": {
        "id": "fpAplT6suQtI"
      },
      "source": [
        "# model.add(tf.keras.layers.LeakyReLU(alpha=0.5))\n",
        "# model.add(tf.keras.layers.Dropout(0.1))\n",
        "# model.add(tf.keras.layers.Dense(64,activation=\"relu\",kernel_regularizer=tf.keras.regularizers.L1(0.01)))\n",
        "# model.add(tf.keras.layers.Dropout(0.1))\n",
        "model.add(tf.keras.layers.Dense(7,activation=\"softmax\"))\n"
      ],
      "execution_count": null,
      "outputs": []
    },
    {
      "cell_type": "code",
      "metadata": {
        "id": "nuZPSGMj1Wn-"
      },
      "source": [
        ""
      ],
      "execution_count": null,
      "outputs": []
    },
    {
      "cell_type": "code",
      "metadata": {
        "id": "r4qOkkW3upkX",
        "colab": {
          "base_uri": "https://localhost:8080/",
          "height": 857
        },
        "outputId": "96b38503-c5a4-4dd7-e480-95598ab079f3"
      },
      "source": [
        "# import tensorflow.keras.optimizers.Adam\n",
        "import tensorflow\n",
        "\n",
        "model.compile(optimizer=\"adam\",loss=tf.keras.losses.CategoricalCrossentropy(),metrics=['accuracy'])\n",
        "model.summary()"
      ],
      "execution_count": null,
      "outputs": [
        {
          "output_type": "stream",
          "text": [
            "Model: \"sequential_2\"\n",
            "_________________________________________________________________\n",
            "Layer (type)                 Output Shape              Param #   \n",
            "=================================================================\n",
            "rescaling_2 (Rescaling)      (None, 200, 200, 3)       0         \n",
            "_________________________________________________________________\n",
            "conv2d_12 (Conv2D)           (None, 200, 200, 32)      896       \n",
            "_________________________________________________________________\n",
            "batch_normalization_6 (Batch (None, 200, 200, 32)      128       \n",
            "_________________________________________________________________\n",
            "conv2d_13 (Conv2D)           (None, 198, 198, 32)      9248      \n",
            "_________________________________________________________________\n",
            "max_pooling2d_6 (MaxPooling2 (None, 99, 99, 32)        0         \n",
            "_________________________________________________________________\n",
            "dropout_6 (Dropout)          (None, 99, 99, 32)        0         \n",
            "_________________________________________________________________\n",
            "conv2d_14 (Conv2D)           (None, 99, 99, 64)        18496     \n",
            "_________________________________________________________________\n",
            "batch_normalization_7 (Batch (None, 99, 99, 64)        256       \n",
            "_________________________________________________________________\n",
            "conv2d_15 (Conv2D)           (None, 97, 97, 64)        36928     \n",
            "_________________________________________________________________\n",
            "max_pooling2d_7 (MaxPooling2 (None, 48, 48, 64)        0         \n",
            "_________________________________________________________________\n",
            "dropout_7 (Dropout)          (None, 48, 48, 64)        0         \n",
            "_________________________________________________________________\n",
            "conv2d_16 (Conv2D)           (None, 48, 48, 128)       73856     \n",
            "_________________________________________________________________\n",
            "batch_normalization_8 (Batch (None, 48, 48, 128)       512       \n",
            "_________________________________________________________________\n",
            "conv2d_17 (Conv2D)           (None, 46, 46, 128)       147584    \n",
            "_________________________________________________________________\n",
            "max_pooling2d_8 (MaxPooling2 (None, 23, 23, 128)       0         \n",
            "_________________________________________________________________\n",
            "dropout_8 (Dropout)          (None, 23, 23, 128)       0         \n",
            "_________________________________________________________________\n",
            "conv2d_18 (Conv2D)           (None, 21, 21, 256)       295168    \n",
            "_________________________________________________________________\n",
            "max_pooling2d_9 (MaxPooling2 (None, 10, 10, 256)       0         \n",
            "_________________________________________________________________\n",
            "dropout_9 (Dropout)          (None, 10, 10, 256)       0         \n",
            "_________________________________________________________________\n",
            "flatten_2 (Flatten)          (None, 25600)             0         \n",
            "_________________________________________________________________\n",
            "dense_1 (Dense)              (None, 7)                 179207    \n",
            "=================================================================\n",
            "Total params: 762,279\n",
            "Trainable params: 761,831\n",
            "Non-trainable params: 448\n",
            "_________________________________________________________________\n"
          ],
          "name": "stdout"
        }
      ]
    },
    {
      "cell_type": "code",
      "metadata": {
        "id": "n5lC483Xu8gt",
        "colab": {
          "base_uri": "https://localhost:8080/",
          "height": 1000
        },
        "outputId": "38557f44-2cdf-4636-d077-bce094dc09ea"
      },
      "source": [
        "# model.fit(train_generator,epochs=50)\n",
        "history = model.fit_generator(generator=train_generator,\n",
        "                                \n",
        "                                epochs=50,\n",
        "                                # validation_data = validation_generator,\n",
        "                                \n",
        "                                )\n"
      ],
      "execution_count": null,
      "outputs": [
        {
          "output_type": "stream",
          "text": [
            "Epoch 1/50\n",
            "901/901 [==============================] - 57s 63ms/step - loss: 1.8297 - accuracy: 0.2827\n",
            "Epoch 2/50\n",
            "901/901 [==============================] - 57s 63ms/step - loss: 1.6900 - accuracy: 0.3293\n",
            "Epoch 3/50\n",
            "901/901 [==============================] - 57s 63ms/step - loss: 1.6243 - accuracy: 0.3594\n",
            "Epoch 4/50\n",
            "901/901 [==============================] - 57s 63ms/step - loss: 1.5187 - accuracy: 0.4072\n",
            "Epoch 5/50\n",
            "901/901 [==============================] - 57s 63ms/step - loss: 1.4200 - accuracy: 0.4510\n",
            "Epoch 6/50\n",
            "901/901 [==============================] - 57s 63ms/step - loss: 1.3543 - accuracy: 0.4796\n",
            "Epoch 7/50\n",
            "901/901 [==============================] - 57s 63ms/step - loss: 1.2965 - accuracy: 0.5050\n",
            "Epoch 8/50\n",
            "901/901 [==============================] - 57s 63ms/step - loss: 1.2525 - accuracy: 0.5236\n",
            "Epoch 9/50\n",
            "901/901 [==============================] - 57s 63ms/step - loss: 1.2100 - accuracy: 0.5442\n",
            "Epoch 10/50\n",
            "901/901 [==============================] - 57s 63ms/step - loss: 1.1736 - accuracy: 0.5555\n",
            "Epoch 11/50\n",
            "901/901 [==============================] - 57s 63ms/step - loss: 1.1369 - accuracy: 0.5702\n",
            "Epoch 12/50\n",
            "901/901 [==============================] - 57s 63ms/step - loss: 1.1014 - accuracy: 0.5835\n",
            "Epoch 13/50\n",
            "901/901 [==============================] - 57s 63ms/step - loss: 1.0680 - accuracy: 0.5959\n",
            "Epoch 14/50\n",
            "901/901 [==============================] - 57s 63ms/step - loss: 1.0390 - accuracy: 0.6107\n",
            "Epoch 15/50\n",
            "901/901 [==============================] - 57s 63ms/step - loss: 1.0096 - accuracy: 0.6223\n",
            "Epoch 16/50\n",
            "901/901 [==============================] - 57s 63ms/step - loss: 0.9772 - accuracy: 0.6335\n",
            "Epoch 17/50\n",
            "901/901 [==============================] - 57s 63ms/step - loss: 0.9501 - accuracy: 0.6466\n",
            "Epoch 18/50\n",
            "901/901 [==============================] - 57s 63ms/step - loss: 0.9307 - accuracy: 0.6538\n",
            "Epoch 19/50\n",
            "901/901 [==============================] - 57s 63ms/step - loss: 0.8986 - accuracy: 0.6683\n",
            "Epoch 20/50\n",
            "901/901 [==============================] - 57s 63ms/step - loss: 0.8800 - accuracy: 0.6744\n",
            "Epoch 21/50\n",
            "901/901 [==============================] - 57s 63ms/step - loss: 0.8510 - accuracy: 0.6845\n",
            "Epoch 22/50\n",
            "901/901 [==============================] - 57s 63ms/step - loss: 0.8340 - accuracy: 0.6874\n",
            "Epoch 23/50\n",
            "901/901 [==============================] - 57s 63ms/step - loss: 0.8096 - accuracy: 0.6991\n",
            "Epoch 24/50\n",
            "901/901 [==============================] - 57s 63ms/step - loss: 0.7896 - accuracy: 0.7085\n",
            "Epoch 25/50\n",
            "901/901 [==============================] - 56s 63ms/step - loss: 0.7669 - accuracy: 0.7132\n",
            "Epoch 26/50\n",
            "901/901 [==============================] - 57s 63ms/step - loss: 0.7503 - accuracy: 0.7225\n",
            "Epoch 27/50\n",
            "901/901 [==============================] - 57s 63ms/step - loss: 0.7380 - accuracy: 0.7285\n",
            "Epoch 28/50\n",
            "901/901 [==============================] - 57s 63ms/step - loss: 0.7189 - accuracy: 0.7315\n",
            "Epoch 29/50\n",
            "901/901 [==============================] - 57s 63ms/step - loss: 0.7052 - accuracy: 0.7389\n",
            "Epoch 30/50\n",
            "901/901 [==============================] - 56s 63ms/step - loss: 0.6881 - accuracy: 0.7429\n",
            "Epoch 31/50\n",
            "901/901 [==============================] - 57s 63ms/step - loss: 0.6810 - accuracy: 0.7468\n",
            "Epoch 32/50\n",
            "901/901 [==============================] - 57s 63ms/step - loss: 0.6673 - accuracy: 0.7514\n",
            "Epoch 33/50\n",
            "901/901 [==============================] - 57s 63ms/step - loss: 0.6605 - accuracy: 0.7571\n",
            "Epoch 34/50\n",
            "901/901 [==============================] - 57s 63ms/step - loss: 0.6517 - accuracy: 0.7586\n",
            "Epoch 35/50\n",
            "901/901 [==============================] - 57s 63ms/step - loss: 0.6302 - accuracy: 0.7661\n",
            "Epoch 36/50\n",
            "901/901 [==============================] - 57s 63ms/step - loss: 0.6217 - accuracy: 0.7699\n",
            "Epoch 37/50\n",
            "901/901 [==============================] - 57s 63ms/step - loss: 0.6148 - accuracy: 0.7729\n",
            "Epoch 38/50\n",
            "901/901 [==============================] - 57s 63ms/step - loss: 0.6100 - accuracy: 0.7779\n",
            "Epoch 39/50\n",
            "901/901 [==============================] - 57s 63ms/step - loss: 0.5979 - accuracy: 0.7783\n",
            "Epoch 40/50\n",
            "901/901 [==============================] - 57s 63ms/step - loss: 0.5826 - accuracy: 0.7859\n",
            "Epoch 41/50\n",
            "901/901 [==============================] - 57s 63ms/step - loss: 0.5782 - accuracy: 0.7872\n",
            "Epoch 42/50\n",
            "901/901 [==============================] - 57s 63ms/step - loss: 0.5662 - accuracy: 0.7907\n",
            "Epoch 43/50\n",
            "901/901 [==============================] - 57s 63ms/step - loss: 0.5520 - accuracy: 0.7957\n",
            "Epoch 44/50\n",
            "901/901 [==============================] - 57s 63ms/step - loss: 0.5556 - accuracy: 0.7951\n",
            "Epoch 45/50\n",
            "901/901 [==============================] - 57s 63ms/step - loss: 0.5518 - accuracy: 0.7979\n",
            "Epoch 46/50\n",
            "901/901 [==============================] - 57s 63ms/step - loss: 0.5429 - accuracy: 0.8009\n",
            "Epoch 47/50\n",
            "901/901 [==============================] - 57s 63ms/step - loss: 0.5312 - accuracy: 0.8049\n",
            "Epoch 48/50\n",
            "901/901 [==============================] - 57s 63ms/step - loss: 0.5218 - accuracy: 0.8072\n",
            "Epoch 49/50\n",
            "901/901 [==============================] - 57s 63ms/step - loss: 0.5199 - accuracy: 0.8081\n",
            "Epoch 50/50\n",
            "901/901 [==============================] - 57s 63ms/step - loss: 0.5197 - accuracy: 0.8076\n"
          ],
          "name": "stdout"
        }
      ]
    },
    {
      "cell_type": "code",
      "metadata": {
        "id": "HX0xMTAtGapz"
      },
      "source": [
        "model.evaluate(validation_generator)"
      ],
      "execution_count": null,
      "outputs": []
    },
    {
      "cell_type": "code",
      "metadata": {
        "id": "pzBsNIz1BP_r"
      },
      "source": [
        "model.save(\"emoji.h5\")"
      ],
      "execution_count": null,
      "outputs": []
    }
  ]
}