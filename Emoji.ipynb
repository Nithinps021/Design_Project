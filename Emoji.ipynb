{
  "nbformat": 4,
  "nbformat_minor": 0,
  "metadata": {
    "colab": {
      "name": "Emoji.ipynb",
      "provenance": [],
      "include_colab_link": true
    },
    "kernelspec": {
      "name": "python3",
      "display_name": "Python 3"
    }
  },
  "cells": [
    {
      "cell_type": "markdown",
      "metadata": {
        "id": "view-in-github",
        "colab_type": "text"
      },
      "source": [
        "<a href=\"https://colab.research.google.com/github/Nithinps021/Design_Project/blob/main/Emoji.ipynb\" target=\"_parent\"><img src=\"https://colab.research.google.com/assets/colab-badge.svg\" alt=\"Open In Colab\"/></a>"
      ]
    },
    {
      "cell_type": "code",
      "metadata": {
        "id": "cbKCp0vdbLYb",
        "colab": {
          "base_uri": "https://localhost:8080/",
          "height": 34
        },
        "outputId": "c1aef368-0e4b-47d1-aca7-561457cbd523"
      },
      "source": [
        "from zipfile import ZipFile\n",
        "file_name=\"/content/99505_234911_bundle_archive.zip\"\n",
        "with ZipFile(file_name,'r') as zip:\n",
        "  zip.extractall()\n",
        "  print('done')"
      ],
      "execution_count": null,
      "outputs": [
        {
          "output_type": "stream",
          "text": [
            "done\n"
          ],
          "name": "stdout"
        }
      ]
    },
    {
      "cell_type": "code",
      "metadata": {
        "id": "rbvx3BLBpwPJ"
      },
      "source": [
        "batch_size=32\n",
        "img_height=180\n",
        "img_width=180"
      ],
      "execution_count": null,
      "outputs": []
    },
    {
      "cell_type": "code",
      "metadata": {
        "id": "Bq6WCu-PnA0r"
      },
      "source": [
        "import tensorflow as tf\n",
        "from keras.preprocessing.image import ImageDataGenerator\n",
        "datagen_train = ImageDataGenerator()\n",
        "datagen_validation = ImageDataGenerator()\n",
        "\n",
        "#td= tf.keras.preprocessing.image_dataset_from_directory(\"images/\", validation_split=0.2, subset=\"training\", seed=123, image_size=(img_height,img_width),batch_size=batch_size) "
      ],
      "execution_count": null,
      "outputs": []
    },
    {
      "cell_type": "code",
      "metadata": {
        "id": "3KCvHg8pqkj_"
      },
      "source": [
        "#vd= tf.keras.preprocessing.image_dataset_from_directory(\"images/\", validation_split=0.2, subset=\"validation\", seed=123, image_size=(img_height,img_width),batch_size=batch_size) "
      ],
      "execution_count": null,
      "outputs": []
    },
    {
      "cell_type": "code",
      "metadata": {
        "id": "ah5BG81N4OPr",
        "colab": {
          "base_uri": "https://localhost:8080/",
          "height": 50
        },
        "outputId": "1b7815d2-0a96-465a-d69d-8f2b3ae4e62b"
      },
      "source": [
        "train_generator = datagen_train.flow_from_directory(\"images/train\",\n",
        "                                                    target_size=(img_height,img_width),\n",
        "                                                    \n",
        "                                                    batch_size=batch_size,\n",
        "                                                    class_mode='categorical',\n",
        "                                                    shuffle=True)\n",
        "\n",
        "validation_generator = datagen_validation.flow_from_directory(\"images/validation\",\n",
        "                                                    target_size=(img_height,img_width),\n",
        "                                                    \n",
        "                                                    batch_size=batch_size,\n",
        "                                                    class_mode='categorical',\n",
        "                                                    shuffle=False)"
      ],
      "execution_count": null,
      "outputs": [
        {
          "output_type": "stream",
          "text": [
            "Found 28821 images belonging to 7 classes.\n",
            "Found 7066 images belonging to 7 classes.\n"
          ],
          "name": "stdout"
        }
      ]
    },
    {
      "cell_type": "code",
      "metadata": {
        "id": "tAmDMWv2qtr0",
        "colab": {
          "base_uri": "https://localhost:8080/",
          "height": 50
        },
        "outputId": "50e28a6e-6b01-41b4-f585-c9374f2d16dd"
      },
      "source": [
        "for image_batch, labels_batch in train_generator:\n",
        "  print(image_batch.shape)\n",
        "  print(labels_batch.shape)\n",
        "  break"
      ],
      "execution_count": null,
      "outputs": [
        {
          "output_type": "stream",
          "text": [
            "(32, 180, 180, 3)\n",
            "(32, 7)\n"
          ],
          "name": "stdout"
        }
      ]
    },
    {
      "cell_type": "code",
      "metadata": {
        "id": "wf7R-wo3rNbk"
      },
      "source": [
        "# normalization_images =tf.keras.layers.experimental.preprocessing.Rescaling(1./255)\n",
        "# normalised_td=train_generator.map(lambda x,y:(normalization_images(x),y))\n",
        "# image_batch, labels_batch= next(iter(normalised_td))"
      ],
      "execution_count": null,
      "outputs": []
    },
    {
      "cell_type": "code",
      "metadata": {
        "id": "zTsMLnDer7tm"
      },
      "source": [
        "from tensorflow.keras.models import Sequential\n",
        "model = Sequential()"
      ],
      "execution_count": null,
      "outputs": []
    },
    {
      "cell_type": "code",
      "metadata": {
        "id": "quxj0IHbsI0y"
      },
      "source": [
        "model.add(tf.keras.layers.experimental.preprocessing.Rescaling(1./255, input_shape=(img_height, img_width,3)))"
      ],
      "execution_count": null,
      "outputs": []
    },
    {
      "cell_type": "code",
      "metadata": {
        "id": "eSiAFmHssqI9"
      },
      "source": [
        "model.add(tf.keras.layers.Conv2D(16,3,padding=\"same\",activation=\"relu\"))\n",
        "model.add(tf.keras.layers.MaxPooling2D())\n",
        "model.add(tf.keras.layers.Conv2D(32,3,padding=\"same\",activation=\"relu\"))\n",
        "model.add(tf.keras.layers.MaxPooling2D())\n",
        "model.add(tf.keras.layers.Conv2D(64,3,padding=\"same\",activation=\"relu\"))\n",
        "model.add(tf.keras.layers.MaxPooling2D())\n",
        "model.add(tf.keras.layers.Flatten())"
      ],
      "execution_count": null,
      "outputs": []
    },
    {
      "cell_type": "code",
      "metadata": {
        "id": "fpAplT6suQtI"
      },
      "source": [
        "model.add(tf.keras.layers.LeakyReLU(alpha=0.5))\n",
        "model.add(tf.keras.layers.Dropout(0.1))\n",
        "model.add(tf.keras.layers.Dense(64,activation=\"relu\",kernel_regularizer=tf.keras.regularizers.L1(0.01)))\n",
        "model.add(tf.keras.layers.Dropout(0.1))\n",
        "model.add(tf.keras.layers.Dense(7,activation=\"softmax\"))\n"
      ],
      "execution_count": null,
      "outputs": []
    },
    {
      "cell_type": "code",
      "metadata": {
        "id": "r4qOkkW3upkX",
        "colab": {
          "base_uri": "https://localhost:8080/",
          "height": 588
        },
        "outputId": "a78c615e-d46d-4e37-8aac-2df423048409"
      },
      "source": [
        "# import tensorflow.keras.optimizers.Adam\n",
        "import tensorflow\n",
        "opt=tensorflow.keras.optimizers.Adam(learning_rate=0.05)\n",
        "model.compile(optimizer=\"adam\",loss=tf.keras.losses.CategoricalCrossentropy(),metrics=['accuracy'])\n",
        "model.summary()"
      ],
      "execution_count": null,
      "outputs": [
        {
          "output_type": "stream",
          "text": [
            "Model: \"sequential\"\n",
            "_________________________________________________________________\n",
            "Layer (type)                 Output Shape              Param #   \n",
            "=================================================================\n",
            "rescaling (Rescaling)        (None, 180, 180, 3)       0         \n",
            "_________________________________________________________________\n",
            "conv2d (Conv2D)              (None, 180, 180, 16)      448       \n",
            "_________________________________________________________________\n",
            "max_pooling2d (MaxPooling2D) (None, 90, 90, 16)        0         \n",
            "_________________________________________________________________\n",
            "conv2d_1 (Conv2D)            (None, 90, 90, 32)        4640      \n",
            "_________________________________________________________________\n",
            "max_pooling2d_1 (MaxPooling2 (None, 45, 45, 32)        0         \n",
            "_________________________________________________________________\n",
            "conv2d_2 (Conv2D)            (None, 45, 45, 64)        18496     \n",
            "_________________________________________________________________\n",
            "max_pooling2d_2 (MaxPooling2 (None, 22, 22, 64)        0         \n",
            "_________________________________________________________________\n",
            "flatten (Flatten)            (None, 30976)             0         \n",
            "_________________________________________________________________\n",
            "leaky_re_lu (LeakyReLU)      (None, 30976)             0         \n",
            "_________________________________________________________________\n",
            "dropout (Dropout)            (None, 30976)             0         \n",
            "_________________________________________________________________\n",
            "dense_2 (Dense)              (None, 64)                1982528   \n",
            "_________________________________________________________________\n",
            "dropout_1 (Dropout)          (None, 64)                0         \n",
            "_________________________________________________________________\n",
            "dense_3 (Dense)              (None, 7)                 455       \n",
            "=================================================================\n",
            "Total params: 2,006,567\n",
            "Trainable params: 2,006,567\n",
            "Non-trainable params: 0\n",
            "_________________________________________________________________\n"
          ],
          "name": "stdout"
        }
      ]
    },
    {
      "cell_type": "code",
      "metadata": {
        "id": "n5lC483Xu8gt",
        "colab": {
          "base_uri": "https://localhost:8080/",
          "height": 1000
        },
        "outputId": "b0512184-a3fa-4ebb-9988-39d086e431f7"
      },
      "source": [
        "# model.fit(train_generator,epochs=50)\n",
        "history = model.fit_generator(generator=train_generator,\n",
        "                                \n",
        "                                epochs=50,\n",
        "                                # validation_data = validation_generator,\n",
        "                                \n",
        "                                )\n"
      ],
      "execution_count": null,
      "outputs": [
        {
          "output_type": "stream",
          "text": [
            "WARNING:tensorflow:From <ipython-input-16-a4a4016be47c>:4: Model.fit_generator (from tensorflow.python.keras.engine.training) is deprecated and will be removed in a future version.\n",
            "Instructions for updating:\n",
            "Please use Model.fit, which supports generators.\n",
            "Epoch 1/50\n",
            "901/901 [==============================] - 26s 29ms/step - loss: 5.3823 - accuracy: 0.2447\n",
            "Epoch 2/50\n",
            "901/901 [==============================] - 25s 28ms/step - loss: 4.0965 - accuracy: 0.2486\n",
            "Epoch 3/50\n",
            "901/901 [==============================] - 25s 28ms/step - loss: 4.0973 - accuracy: 0.2486\n",
            "Epoch 4/50\n",
            "901/901 [==============================] - 25s 27ms/step - loss: 4.0880 - accuracy: 0.2486\n",
            "Epoch 5/50\n",
            "901/901 [==============================] - 25s 27ms/step - loss: 4.1147 - accuracy: 0.2486\n",
            "Epoch 6/50\n",
            "901/901 [==============================] - 25s 27ms/step - loss: 4.1786 - accuracy: 0.2603\n",
            "Epoch 7/50\n",
            "901/901 [==============================] - 24s 27ms/step - loss: 4.2077 - accuracy: 0.2885\n",
            "Epoch 8/50\n",
            "901/901 [==============================] - 25s 27ms/step - loss: 4.2089 - accuracy: 0.3089\n",
            "Epoch 9/50\n",
            "901/901 [==============================] - 24s 27ms/step - loss: 4.1650 - accuracy: 0.3297\n",
            "Epoch 10/50\n",
            "901/901 [==============================] - 24s 26ms/step - loss: 4.1356 - accuracy: 0.3394\n",
            "Epoch 11/50\n",
            "901/901 [==============================] - 24s 27ms/step - loss: 4.1224 - accuracy: 0.3505\n",
            "Epoch 12/50\n",
            "901/901 [==============================] - 24s 27ms/step - loss: 4.0975 - accuracy: 0.3530\n",
            "Epoch 13/50\n",
            "901/901 [==============================] - 24s 26ms/step - loss: 4.0930 - accuracy: 0.3623\n",
            "Epoch 14/50\n",
            "901/901 [==============================] - 24s 27ms/step - loss: 4.0834 - accuracy: 0.3699\n",
            "Epoch 15/50\n",
            "901/901 [==============================] - 24s 27ms/step - loss: 4.0744 - accuracy: 0.3687\n",
            "Epoch 16/50\n",
            "901/901 [==============================] - 24s 27ms/step - loss: 4.0761 - accuracy: 0.3709\n",
            "Epoch 17/50\n",
            "901/901 [==============================] - 24s 26ms/step - loss: 4.0795 - accuracy: 0.3717\n",
            "Epoch 18/50\n",
            "901/901 [==============================] - 24s 27ms/step - loss: 4.0687 - accuracy: 0.3759\n",
            "Epoch 19/50\n",
            "901/901 [==============================] - 24s 27ms/step - loss: 4.0599 - accuracy: 0.3744\n",
            "Epoch 20/50\n",
            "901/901 [==============================] - 24s 27ms/step - loss: 4.0684 - accuracy: 0.3764\n",
            "Epoch 21/50\n",
            "901/901 [==============================] - 24s 27ms/step - loss: 4.0662 - accuracy: 0.3822\n",
            "Epoch 22/50\n",
            "901/901 [==============================] - 24s 27ms/step - loss: 4.0725 - accuracy: 0.3819\n",
            "Epoch 23/50\n",
            "901/901 [==============================] - 24s 27ms/step - loss: 4.0723 - accuracy: 0.3826\n",
            "Epoch 24/50\n",
            "901/901 [==============================] - 24s 26ms/step - loss: 4.0670 - accuracy: 0.3810\n",
            "Epoch 25/50\n",
            "901/901 [==============================] - 24s 27ms/step - loss: 4.0615 - accuracy: 0.3851\n",
            "Epoch 26/50\n",
            "901/901 [==============================] - 24s 27ms/step - loss: 4.0594 - accuracy: 0.3873\n",
            "Epoch 27/50\n",
            "901/901 [==============================] - 24s 26ms/step - loss: 4.0560 - accuracy: 0.3891\n",
            "Epoch 28/50\n",
            "901/901 [==============================] - 24s 27ms/step - loss: 4.0553 - accuracy: 0.3891\n",
            "Epoch 29/50\n",
            "901/901 [==============================] - 24s 27ms/step - loss: 4.0543 - accuracy: 0.3908\n",
            "Epoch 30/50\n",
            "901/901 [==============================] - 24s 27ms/step - loss: 4.0564 - accuracy: 0.3904\n",
            "Epoch 31/50\n",
            "901/901 [==============================] - 24s 27ms/step - loss: 4.0673 - accuracy: 0.3908\n",
            "Epoch 32/50\n",
            "901/901 [==============================] - 24s 27ms/step - loss: 4.0653 - accuracy: 0.3896\n",
            "Epoch 33/50\n",
            "901/901 [==============================] - 24s 27ms/step - loss: 4.0591 - accuracy: 0.3921\n",
            "Epoch 34/50\n",
            "901/901 [==============================] - 24s 27ms/step - loss: 4.0545 - accuracy: 0.3920\n",
            "Epoch 35/50\n",
            "901/901 [==============================] - 24s 27ms/step - loss: 4.0574 - accuracy: 0.3952\n",
            "Epoch 36/50\n",
            "901/901 [==============================] - 24s 27ms/step - loss: 4.0552 - accuracy: 0.3977\n",
            "Epoch 37/50\n",
            "901/901 [==============================] - 24s 27ms/step - loss: 4.0648 - accuracy: 0.3972\n",
            "Epoch 38/50\n",
            "901/901 [==============================] - 24s 27ms/step - loss: 4.0526 - accuracy: 0.3983\n",
            "Epoch 39/50\n",
            "901/901 [==============================] - 24s 27ms/step - loss: 4.0524 - accuracy: 0.3974\n",
            "Epoch 40/50\n",
            "901/901 [==============================] - 24s 27ms/step - loss: 4.0489 - accuracy: 0.3982\n",
            "Epoch 41/50\n",
            "901/901 [==============================] - 24s 27ms/step - loss: 4.0433 - accuracy: 0.4026\n",
            "Epoch 42/50\n",
            "901/901 [==============================] - 24s 27ms/step - loss: 4.0417 - accuracy: 0.4004\n",
            "Epoch 43/50\n",
            "901/901 [==============================] - 24s 27ms/step - loss: 4.0455 - accuracy: 0.3983\n",
            "Epoch 44/50\n",
            "901/901 [==============================] - 24s 27ms/step - loss: 4.0532 - accuracy: 0.4000\n",
            "Epoch 45/50\n",
            "901/901 [==============================] - 24s 27ms/step - loss: 4.0519 - accuracy: 0.4030\n",
            "Epoch 46/50\n",
            "901/901 [==============================] - 24s 27ms/step - loss: 4.0510 - accuracy: 0.3993\n",
            "Epoch 47/50\n",
            "901/901 [==============================] - 24s 27ms/step - loss: 4.0418 - accuracy: 0.4039\n",
            "Epoch 48/50\n",
            "901/901 [==============================] - 24s 27ms/step - loss: 4.0400 - accuracy: 0.4050\n",
            "Epoch 49/50\n",
            "901/901 [==============================] - 24s 27ms/step - loss: 4.0330 - accuracy: 0.4069\n",
            "Epoch 50/50\n",
            "901/901 [==============================] - 24s 27ms/step - loss: 4.0352 - accuracy: 0.4052\n"
          ],
          "name": "stdout"
        }
      ]
    },
    {
      "cell_type": "code",
      "metadata": {
        "id": "HX0xMTAtGapz"
      },
      "source": [
        "model.evaluate(validation_generator)"
      ],
      "execution_count": null,
      "outputs": []
    }
  ]
}